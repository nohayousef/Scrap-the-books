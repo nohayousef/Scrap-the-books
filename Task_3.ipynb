{
 "cells": [
  {
   "cell_type": "markdown",
   "id": "b0f34f61",
   "metadata": {},
   "source": [
    "Task 3\n",
    "---------\n",
    "Scrap the books (name, price, rate) for each category and put them into a CSV & Excel file\n",
    "https://books.toscrape.com/\n"
   ]
  },
  {
   "cell_type": "code",
   "execution_count": 3,
   "id": "51063c72",
   "metadata": {},
   "outputs": [],
   "source": [
    "import requests\n",
    "from bs4 import BeautifulSoup\n",
    "import csv\n",
    "import pandas as pd\n",
    "\n",
    "url = \"https://books.toscrape.com/\"\n",
    "response = requests.get(url)\n",
    "soup = BeautifulSoup(response.text, 'html.parser')\n",
    "\n",
    "# Find all categories\n",
    "categories = soup.find('div', {'class': 'side_categories'}).find_all('li')\n",
    "\n",
    "with open('books.csv', 'w', newline='') as csvfile:\n",
    "    writer = csv.writer(csvfile)\n",
    "    writer.writerow([\"Category\", \"Book Name\", \"Price\", \"Rating\"])\n",
    "\n",
    "# Create an Excel file with a context manager\n",
    "with pd.ExcelWriter('books.xlsx', engine='openpyxl') as excel_file:\n",
    "    for category in categories:\n",
    "        category_url = category.find('a')['href']\n",
    "        category_name = category.find('a').text.strip()\n",
    "        \n",
    "        full_category_url = url + category_url\n",
    "        response = requests.get(full_category_url)\n",
    "        soup = BeautifulSoup(response.text, 'html.parser')\n",
    "        \n",
    "        # Find all books in the category\n",
    "        books = soup.find_all('article', {'class': 'product_pod'})\n",
    "        \n",
    "        book_data = []  # Create a list to store the book data\n",
    "        \n",
    "        for book in books:\n",
    "            book_name = book.find('h3').find('a')['title']\n",
    "            price = book.find('p', {'class': 'price_color'}).text.strip()\n",
    "            rating = book.find('p', {'class': 'star-rating'}).get('class')[1]\n",
    "            \n",
    "            with open('books.csv', 'a', newline='') as csvfile:\n",
    "                writer = csv.writer(csvfile)\n",
    "                writer.writerow([category_name, book_name, price, rating])\n",
    "\n",
    "            book_data.append([category_name, book_name, price, rating])\n",
    "        \n",
    "        # Write the data to the Excel file\n",
    "        df = pd.DataFrame(book_data, columns=[\"Category\", \"Book Name\", \"Price\", \"Rating\"])\n",
    "        df.to_excel(excel_file, sheet_name=category_name, index=False)\n"
   ]
  }
 ],
 "metadata": {
  "kernelspec": {
   "display_name": "Python 3 (ipykernel)",
   "language": "python",
   "name": "python3"
  },
  "language_info": {
   "codemirror_mode": {
    "name": "ipython",
    "version": 3
   },
   "file_extension": ".py",
   "mimetype": "text/x-python",
   "name": "python",
   "nbconvert_exporter": "python",
   "pygments_lexer": "ipython3",
   "version": "3.11.5"
  }
 },
 "nbformat": 4,
 "nbformat_minor": 5
}
